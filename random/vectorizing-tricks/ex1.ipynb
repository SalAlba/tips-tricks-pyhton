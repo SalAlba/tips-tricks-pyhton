{
 "cells": [
  {
   "cell_type": "markdown",
   "metadata": {},
   "source": [
    "# Vectorizing tricks"
   ]
  },
  {
   "cell_type": "markdown",
   "metadata": {},
   "source": [
    "let say we have to mesure the graient for function, ...\n",
    "\n",
    "$$\n",
    "\\frac{\\partial J}{\\partial\\theta_{j}} = \\frac{1}{m} \\sum_{i=1}^{m}(h_{\\theta}(x^{(i)}) - y^{(i)})x_{j}^{(i)}\n",
    "$$\n",
    "\n",
    "\n",
    "$$\n",
    "h_{\\theta}(x) = \\theta^{T}x\n",
    "$$\n",
    "\n",
    "where small x or theta is column vector ex. $$x_{3x1}$$\n",
    "\n",
    "capital X is matrix (array) of row vectors ex. $$X_{nxm}$$\n",
    "n : number of rows.\n",
    "m : number of column (numbe rof features)."
   ]
  },
  {
   "cell_type": "code",
   "execution_count": null,
   "metadata": {},
   "outputs": [],
   "source": []
  },
  {
   "cell_type": "code",
   "execution_count": 36,
   "metadata": {},
   "outputs": [],
   "source": [
    "import numpy as np\n",
    "import time"
   ]
  },
  {
   "cell_type": "code",
   "execution_count": 73,
   "metadata": {},
   "outputs": [
    {
     "name": "stdout",
     "output_type": "stream",
     "text": [
      "(4, 3)\n",
      "(4, 1)\n",
      "(3, 1)\n"
     ]
    }
   ],
   "source": [
    "X = np.array([\n",
    "    [1, 2, 3],\n",
    "    [1, 5, 6],\n",
    "    [1, 8, 9],\n",
    "    [1, 4, 7],\n",
    "])\n",
    "\n",
    "y = np.array([\n",
    "    [13],\n",
    "    [30],\n",
    "    [45],\n",
    "    [29]\n",
    "])\n",
    "\n",
    "theta = np.array([\n",
    "    [1],\n",
    "    [2],\n",
    "    [3]\n",
    "])\n",
    "\n",
    "# ...\n",
    "print(X.shape)\n",
    "print(y.shape)\n",
    "print(theta.shape)"
   ]
  },
  {
   "cell_type": "markdown",
   "metadata": {},
   "source": [
    "## Hypothesis"
   ]
  },
  {
   "cell_type": "code",
   "execution_count": 39,
   "metadata": {},
   "outputs": [],
   "source": [
    "def h(X):\n",
    "    return X.dot(theta)"
   ]
  },
  {
   "cell_type": "code",
   "execution_count": 48,
   "metadata": {},
   "outputs": [],
   "source": [
    "def h_loop(X):\n",
    "    return [theta.T.dot(x) for x in X]"
   ]
  },
  {
   "cell_type": "code",
   "execution_count": 23,
   "metadata": {},
   "outputs": [
    {
     "data": {
      "text/plain": [
       "array([[14],\n",
       "       [29],\n",
       "       [44],\n",
       "       [30]])"
      ]
     },
     "execution_count": 23,
     "metadata": {},
     "output_type": "execute_result"
    }
   ],
   "source": [
    "h(X)"
   ]
  },
  {
   "cell_type": "code",
   "execution_count": 38,
   "metadata": {},
   "outputs": [
    {
     "name": "stdout",
     "output_type": "stream",
     "text": [
      "[14]\n",
      "[29]\n",
      "[44]\n",
      "[30]\n"
     ]
    }
   ],
   "source": [
    "# This solution is similar to dot h() operation it's slower.\n",
    "x0 = theta.T.dot(X[0, :])\n",
    "x1 = theta.T.dot(X[1, :])\n",
    "x2 = theta.T.dot(X[2, :])\n",
    "x3 = theta.T.dot(X[3, :])\n",
    "\n",
    "print(x0)\n",
    "print(x1)\n",
    "print(x2)\n",
    "print(x3)"
   ]
  },
  {
   "cell_type": "code",
   "execution_count": 64,
   "metadata": {},
   "outputs": [
    {
     "name": "stdout",
     "output_type": "stream",
     "text": [
      "Time of vectorizing :  0.00844573974609375\n",
      "Time of looping :  0.0724332332611084\n",
      "is vectorizing time slower than loop time :  False\n"
     ]
    }
   ],
   "source": [
    "XX = np.random.rand(10000, 3)\n",
    "\n",
    "s0 = time.time()\n",
    "h(XX)\n",
    "e0 = time.time()\n",
    "\n",
    "s1 = time.time()\n",
    "h_loop(XX)\n",
    "e1 = time.time()\n",
    "\n",
    "print('Time of vectorizing : ', (e0 - s0))\n",
    "print('Time of looping : ', (e1 - s1))\n",
    "print('is vectorizing time slower than loop time : ', (e0 - s0) > (e1 - s1))"
   ]
  },
  {
   "cell_type": "markdown",
   "metadata": {},
   "source": [
    "## Gradient\n",
    "\n",
    "$$\n",
    "\\frac{\\partial J}{\\partial\\theta_{j}} = \\frac{1}{m} \\sum_{i=1}^{m}(h_{\\theta}(x^{(i)}) - y^{(i)})x_{j}^{(i)}\n",
    "$$\n"
   ]
  },
  {
   "cell_type": "code",
   "execution_count": 171,
   "metadata": {},
   "outputs": [],
   "source": [
    "def grad_1(xx, yy):\n",
    "    m = len(xx)\n",
    "    error = h(xx) - yy\n",
    "    return (1./m) * np.sum(error * xx, axis=0)"
   ]
  },
  {
   "cell_type": "code",
   "execution_count": 172,
   "metadata": {},
   "outputs": [],
   "source": [
    "def grad_2(xx, yy):\n",
    "    m = len(xx)\n",
    "    J = [0, 0, 0]\n",
    "\n",
    "    for i in range(m):\n",
    "        x0 = theta.T.dot(xx[i, :])\n",
    "        e0 = x0 - yy[i]\n",
    "        for ii in range(len(J)):\n",
    "            J[ii] +=  (e0 * xx[i][ii])[0]\n",
    "\n",
    "    J = [(1. / m) * j for j in J]\n",
    "    return J"
   ]
  },
  {
   "cell_type": "code",
   "execution_count": 173,
   "metadata": {},
   "outputs": [
    {
     "data": {
      "text/plain": [
       "array([[1, 1, 1, 1],\n",
       "       [2, 5, 8, 4],\n",
       "       [3, 6, 9, 7]])"
      ]
     },
     "execution_count": 173,
     "metadata": {},
     "output_type": "execute_result"
    }
   ],
   "source": [
    "X.T"
   ]
  },
  {
   "cell_type": "code",
   "execution_count": 158,
   "metadata": {},
   "outputs": [
    {
     "data": {
      "text/plain": [
       "array([[1, 2, 3],\n",
       "       [1, 5, 6],\n",
       "       [1, 8, 9],\n",
       "       [1, 4, 7]])"
      ]
     },
     "execution_count": 158,
     "metadata": {},
     "output_type": "execute_result"
    }
   ],
   "source": [
    "X"
   ]
  },
  {
   "cell_type": "code",
   "execution_count": 170,
   "metadata": {},
   "outputs": [],
   "source": [
    "def grad_3(xx, yy):\n",
    "    m = len(xx)\n",
    "    error = h(xx) - yy\n",
    "    return (1./m) * xx.T.dot(error)"
   ]
  },
  {
   "cell_type": "code",
   "execution_count": 174,
   "metadata": {},
   "outputs": [
    {
     "name": "stdout",
     "output_type": "stream",
     "text": [
      "[ 0.   -1.75 -1.25]\n",
      "[0.0, -1.75, -1.25]\n",
      "[[ 0.  ]\n",
      " [-1.75]\n",
      " [-1.25]]\n"
     ]
    }
   ],
   "source": [
    "print(grad_1(X, y))\n",
    "print(grad_2(X, y))\n",
    "print(grad_3(X, y))"
   ]
  },
  {
   "cell_type": "code",
   "execution_count": null,
   "metadata": {},
   "outputs": [],
   "source": []
  },
  {
   "cell_type": "code",
   "execution_count": 180,
   "metadata": {},
   "outputs": [
    {
     "name": "stdout",
     "output_type": "stream",
     "text": [
      "Time of grad_1 :  0.0025784969329833984\n",
      "Time of looping :  0.19057941436767578\n",
      "Time of vectorizing :  0.00023317337036132812\n",
      "is vectorizing time slower than loop time :  False\n",
      "\n",
      "\n",
      " [1.34718835 1.42779259 1.50030532]\n",
      "\n",
      "\n",
      " [1.3471883509081484, 1.4277925899084303, 1.5003053187969504]\n",
      "\n",
      "\n",
      " [[1.34718835]\n",
      " [1.42779259]\n",
      " [1.50030532]]\n"
     ]
    }
   ],
   "source": [
    "XX = np.random.rand(10000, 3)\n",
    "yy = np.random.rand(10000, 1)\n",
    "\n",
    "\n",
    "s1 = time.time()\n",
    "j1 = grad_1(XX, yy)\n",
    "e1 = time.time()\n",
    "\n",
    "s2 = time.time()\n",
    "j2 = grad_2(XX, yy)\n",
    "e2 = time.time()\n",
    "\n",
    "\n",
    "s3 = time.time()\n",
    "j3 = grad_3(XX, yy)\n",
    "e3 = time.time()\n",
    "\n",
    "print('Time of grad_1 : ', (e1 - s1))\n",
    "print('Time of looping : ', (e2 - s2))\n",
    "print('Time of vectorizing : ', (e3 - s3))\n",
    "print('is vectorizing time slower than loop time : ', (e3 - s3) > (e2 - s2))\n",
    "\n",
    "print('\\n\\n',j1)\n",
    "print('\\n\\n',j2)\n",
    "print('\\n\\n',j3)"
   ]
  }
 ],
 "metadata": {
  "kernelspec": {
   "display_name": "Python 3",
   "language": "python",
   "name": "python3"
  },
  "language_info": {
   "codemirror_mode": {
    "name": "ipython",
    "version": 3
   },
   "file_extension": ".py",
   "mimetype": "text/x-python",
   "name": "python",
   "nbconvert_exporter": "python",
   "pygments_lexer": "ipython3",
   "version": "3.6.7"
  }
 },
 "nbformat": 4,
 "nbformat_minor": 2
}
